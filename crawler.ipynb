{
 "cells": [
  {
   "cell_type": "code",
   "execution_count": 11,
   "metadata": {},
   "outputs": [
    {
     "ename": "SyntaxError",
     "evalue": "invalid syntax (<ipython-input-11-80b61f1ba101>, line 17)",
     "output_type": "error",
     "traceback": [
      "\u001b[1;36m  File \u001b[1;32m\"<ipython-input-11-80b61f1ba101>\"\u001b[1;36m, line \u001b[1;32m17\u001b[0m\n\u001b[1;33m    wiki[\"linked wiki pages\"].append{\"wiki page\": naziv}\u001b[0m\n\u001b[1;37m                                    ^\u001b[0m\n\u001b[1;31mSyntaxError\u001b[0m\u001b[1;31m:\u001b[0m invalid syntax\n"
     ]
    }
   ],
   "source": [
    "import json\n",
    "import re,os\n",
    "\n",
    "\n",
    "#wiki[\"root wiki page\"] = naziv\n",
    "#wiki[\"root intro text\"] = text iz datoteke\n",
    "for filename in os.listdir():\n",
    "    if re.search(\"^root-.+\\.txt\", filename):\n",
    "        f = open(filename)\n",
    "        filename.split(\".\")[:-1]\n",
    "        print(filename)\n",
    "\n",
    "        \n",
    "wiki = {}\n",
    "\n",
    "for link in os.listdir():\n",
    "    wiki[\"linked wiki pages\"].append{\"wiki page\": naziv}\n",
    "    wiki[\"linked wiki pages\"][-1][\"intro tekst\"] = uvodni tekst\n",
    "    wiki[\"linked wiki pages\"][-1][\"links\"] = []\n",
    "    for lin in links:\n",
    "        wiki[\"linked wiki pages\"][-1][\"links\"].append(link)\n",
    "\n",
    "\n",
    "fw = open(\"wiki.json\",\"w\")\n",
    "fw.write(json.dumps(wiki,indent=4))\n",
    "fw.close()"
   ]
  },
  {
   "cell_type": "code",
   "execution_count": null,
   "metadata": {
    "collapsed": true
   },
   "outputs": [],
   "source": []
  },
  {
   "cell_type": "code",
   "execution_count": null,
   "metadata": {
    "collapsed": true
   },
   "outputs": [],
   "source": []
  }
 ],
 "metadata": {
  "kernelspec": {
   "display_name": "Python 3",
   "language": "python",
   "name": "python3"
  },
  "language_info": {
   "codemirror_mode": {
    "name": "ipython",
    "version": 3
   },
   "file_extension": ".py",
   "mimetype": "text/x-python",
   "name": "python",
   "nbconvert_exporter": "python",
   "pygments_lexer": "ipython3",
   "version": "3.7.3"
  }
 },
 "nbformat": 4,
 "nbformat_minor": 2
}
