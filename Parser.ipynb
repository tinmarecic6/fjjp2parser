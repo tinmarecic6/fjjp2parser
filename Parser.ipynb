{
 "cells": [
  {
   "cell_type": "code",
   "execution_count": 70,
   "metadata": {},
   "outputs": [
    {
     "name": "stdout",
     "output_type": "stream",
     "text": [
      "[]\n"
     ]
    }
   ],
   "source": [
    "from pyparsing import *\n",
    "\n",
    "\n",
    "#open file\n",
    "tekst = open('0001-da-tag.txt','r')\n",
    "tekst1=tekst.read()\n",
    "# define grammar of a gloss\n",
    "gloss = OneOrMore(Word(alphanums))('gloss')\n",
    "gloss_parse = '<W' + 'gloss' + '=' + gloss\n",
    "\n",
    "\n",
    "#parse for gloss\n",
    "match = gloss_parse.scanString(tekst1)\n",
    "\n",
    "\n",
    "glosses = []\n",
    "\n",
    "for x in match:\n",
    "    glosses.append(x[0].gloss)\n",
    "gloss_title = ' '.join(glosses)\n",
    "print(glosses)"
   ]
  },
  {
   "cell_type": "code",
   "execution_count": null,
   "metadata": {},
   "outputs": [],
   "source": []
  }
 ],
 "metadata": {
  "kernelspec": {
   "display_name": "Python 3",
   "language": "python",
   "name": "python3"
  },
  "language_info": {
   "codemirror_mode": {
    "name": "ipython",
    "version": 3
   },
   "file_extension": ".py",
   "mimetype": "text/x-python",
   "name": "python",
   "nbconvert_exporter": "python",
   "pygments_lexer": "ipython3",
   "version": "3.7.3"
  }
 },
 "nbformat": 4,
 "nbformat_minor": 2
}
