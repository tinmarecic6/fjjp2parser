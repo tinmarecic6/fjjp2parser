{
 "cells": [
  {
   "cell_type": "code",
   "execution_count": 8,
   "metadata": {},
   "outputs": [],
   "source": [
    "import json\n",
    "import re,os\n",
    "\n",
    "\n",
    "#wiki[\"root wiki page\"] = naziv\n",
    "#wiki[\"root intro text\"] = text iz datoteke\n",
    "for filename in os.listdir():\n",
    "    if re.search(\"^root-.+\\.txt\", filename):\n",
    "        f = open(filename)\n",
    "        filename.split(\".\")[:-1]\n",
    "        print(filename)\n",
    "\n",
    "        \n",
    "wiki = {}\n",
    "\n",
    "for link in os.listdir():\n",
    "    wiki[\"linked wiki pages\"].append{\"wiki page\": naziv}\n",
    "    wiki[\"linked wiki pages\"][-1][\"intro tekst\"] = uvodni tekst\n",
    "    wiki[\"linked wiki pages\"][-1][\"links\"] = []\n",
    "    for lin in links:\n",
    "    wiki[\"linked wiki pages\"][-1][\"links\"].append(link)\n",
    "\n",
    "\n",
    "fw = open(\"wiki.json\",\"w\")\n",
    "fw.write(json.dumps(wiki,indent=4))\n",
    "fw.close()"
   ]
  },
  {
   "cell_type": "code",
   "execution_count": null,
   "metadata": {
    "collapsed": true
   },
   "outputs": [],
   "source": []
  },
  {
   "cell_type": "code",
   "execution_count": null,
   "metadata": {
    "collapsed": true
   },
   "outputs": [],
   "source": []
  }
 ],
 "metadata": {
  "kernelspec": {
   "display_name": "Python 3",
   "language": "python",
   "name": "python3"
  }
 },
 "nbformat": 4,
 "nbformat_minor": 2
}
