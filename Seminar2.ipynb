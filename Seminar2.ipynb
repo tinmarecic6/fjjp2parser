{
 "cells": [
  {
   "cell_type": "code",
   "execution_count": 2,
   "metadata": {},
   "outputs": [
    {
     "name": "stdout",
     "output_type": "stream",
     "text": [
      "<W gloss=\"Two\" lemma=\"to\" msd=\"AC---U=--\" tag=\"CD\" in=\"9:subj\" out=\"1:attr|2:attr|3:nobj|5:appr\">To</W>\n",
      "<W gloss=\"well-known\" lemma=\"kendt\" msd=\"ANP[CN]PU=[DI]U\" tag=\"JJ\" in=\"-1:attr\" out=\"\">kendte</W>\n",
      "<W gloss=\"Russian\" lemma=\"russisk\" msd=\"ANP[CN]PU=[DI]U\" tag=\"JJ\" in=\"-2:attr\" out=\"\">russiske</W>\n",
      "<W gloss=\"historians\" lemma=\"historiker\" msd=\"NCCPU==I\" tag=\"NNP\" in=\"-3:nobj\" out=\"\">historikere</W>\n",
      "<W gloss=\"Andronik\" lemma=\"Andronik\" msd=\"NP--U==-\" tag=\"NNP\" in=\"1:namef\" out=\"\">Andronik</W>\n",
      "<W gloss=\"Mirganjan\" lemma=\"Mirganjan\" msd=\"NP--U==-\" tag=\"NNP\" in=\"-5:appr\" out=\"-1:namef|3:conj\">Mirganjan</W>\n",
      "<W gloss=\"and\" lemma=\"og\" msd=\"CC\" tag=\"CC\" in=\"2:coord\" out=\"\">og</W>\n",
      "<W gloss=\"Igor\" lemma=\"Igor\" msd=\"NP--U==-\" tag=\"NNP\" in=\"1:namef\" out=\"\">Igor</W>\n",
      "<W gloss=\"Klamkin\" lemma=\"Klamkin\" msd=\"NP--U==-\" tag=\"NNP\" in=\"-3:conj\" out=\"-1:namef|-2:coord\">Klamkin</W>\n",
      "<W gloss=\"do_believe\" lemma=\"tro\" msd=\"VADR=----A-\" tag=\"VBD\" in=\"\" out=\"-9:subj|1:neg|2:pnct|3:dobj|12:pnct\">tror</W>\n",
      "<W gloss=\"not\" lemma=\"ikke\" msd=\"RGU\" tag=\"RP\" in=\"-1:neg\" out=\"\">ikke</W>\n",
      "<W gloss=\",\" lemma=\",\" msd=\"XP\" tag=\",\" in=\"-2:pnct\" out=\"\">,</W>\n",
      "<W gloss=\"that\" lemma=\"at\" msd=\"CS\" tag=\"IN\" in=\"-3:dobj\" out=\"2:vobj\">at</W>\n",
      "<W gloss=\"Russia\" lemma=\"Rusland\" msd=\"NP--U==-\" tag=\"NNP\" in=\"1:subj|2:[subj]\" out=\"\">Rusland</W>\n",
      "<W gloss=\"can\" lemma=\"kunne\" msd=\"VADR=----A-\" tag=\"VBD\" in=\"-2:vobj\" out=\"-1:subj|1:vobj|2:other\">kan</W>\n",
      "<W gloss=\"be_developed\" lemma=\"udvikle\" msd=\"VAF-=----P-\" tag=\"VB\" in=\"-1:vobj\" out=\"-2:[subj]\">udvikles</W>\n",
      "<W gloss=\"without\" lemma=\"uden\" msd=\"SP\" tag=\"IN\" in=\"-2:other\" out=\"1:nobj\">uden</W>\n",
      "<W gloss=\"an\" lemma=\"en\" msd=\"PI-CSU--U\" tag=\"DT\" in=\"-1:nobj\" out=\"2:nobj\">en</W>\n",
      "<W gloss=\"&amp;quot;\" lemma=\"&amp;quot;\" msd=\"XP\" tag=\"&amp;quot;\" in=\"1:pnct\" out=\"\">\"</W>\n",
      "<W gloss=\"iron_fist\" lemma=\"jernnæve\" msd=\"NCCSU==I\" tag=\"NN\" in=\"-2:nobj\" out=\"-1:pnct|1:pnct\">jernnæve</W>\n",
      "<W gloss=\"&amp;quot;\" lemma=\"&amp;quot;\" msd=\"XP\" tag=\"&amp;quot;\" in=\"-1:pnct\" out=\"\">\"</W>\n",
      "<W gloss=\".\" lemma=\".\" msd=\"XP\" tag=\".\" in=\"-12:pnct\" out=\"\">.</W>\n"
     ]
    }
   ],
   "source": [
    "from pyparsing import *\n",
    "\n",
    "#define a grammar\n",
    "\n",
    "ulaz = \"\"\"<W gloss=\"Two\" lemma=\"to\" msd=\"AC---U=--\" tag=\"CD\" in=\"9:subj\" out=\"1:attr|2:attr|3:nobj|5:appr\">To</W>\n",
    "<W gloss=\"well-known\" lemma=\"kendt\" msd=\"ANP[CN]PU=[DI]U\" tag=\"JJ\" in=\"-1:attr\" out=\"\">kendte</W>\n",
    "<W gloss=\"Russian\" lemma=\"russisk\" msd=\"ANP[CN]PU=[DI]U\" tag=\"JJ\" in=\"-2:attr\" out=\"\">russiske</W>\n",
    "<W gloss=\"historians\" lemma=\"historiker\" msd=\"NCCPU==I\" tag=\"NNP\" in=\"-3:nobj\" out=\"\">historikere</W>\n",
    "<W gloss=\"Andronik\" lemma=\"Andronik\" msd=\"NP--U==-\" tag=\"NNP\" in=\"1:namef\" out=\"\">Andronik</W>\n",
    "<W gloss=\"Mirganjan\" lemma=\"Mirganjan\" msd=\"NP--U==-\" tag=\"NNP\" in=\"-5:appr\" out=\"-1:namef|3:conj\">Mirganjan</W>\n",
    "<W gloss=\"and\" lemma=\"og\" msd=\"CC\" tag=\"CC\" in=\"2:coord\" out=\"\">og</W>\n",
    "<W gloss=\"Igor\" lemma=\"Igor\" msd=\"NP--U==-\" tag=\"NNP\" in=\"1:namef\" out=\"\">Igor</W>\n",
    "<W gloss=\"Klamkin\" lemma=\"Klamkin\" msd=\"NP--U==-\" tag=\"NNP\" in=\"-3:conj\" out=\"-1:namef|-2:coord\">Klamkin</W>\n",
    "<W gloss=\"do_believe\" lemma=\"tro\" msd=\"VADR=----A-\" tag=\"VBD\" in=\"\" out=\"-9:subj|1:neg|2:pnct|3:dobj|12:pnct\">tror</W>\n",
    "<W gloss=\"not\" lemma=\"ikke\" msd=\"RGU\" tag=\"RP\" in=\"-1:neg\" out=\"\">ikke</W>\n",
    "<W gloss=\",\" lemma=\",\" msd=\"XP\" tag=\",\" in=\"-2:pnct\" out=\"\">,</W>\n",
    "<W gloss=\"that\" lemma=\"at\" msd=\"CS\" tag=\"IN\" in=\"-3:dobj\" out=\"2:vobj\">at</W>\n",
    "<W gloss=\"Russia\" lemma=\"Rusland\" msd=\"NP--U==-\" tag=\"NNP\" in=\"1:subj|2:[subj]\" out=\"\">Rusland</W>\n",
    "<W gloss=\"can\" lemma=\"kunne\" msd=\"VADR=----A-\" tag=\"VBD\" in=\"-2:vobj\" out=\"-1:subj|1:vobj|2:other\">kan</W>\n",
    "<W gloss=\"be_developed\" lemma=\"udvikle\" msd=\"VAF-=----P-\" tag=\"VB\" in=\"-1:vobj\" out=\"-2:[subj]\">udvikles</W>\n",
    "<W gloss=\"without\" lemma=\"uden\" msd=\"SP\" tag=\"IN\" in=\"-2:other\" out=\"1:nobj\">uden</W>\n",
    "<W gloss=\"an\" lemma=\"en\" msd=\"PI-CSU--U\" tag=\"DT\" in=\"-1:nobj\" out=\"2:nobj\">en</W>\n",
    "<W gloss=\"&amp;quot;\" lemma=\"&amp;quot;\" msd=\"XP\" tag=\"&amp;quot;\" in=\"1:pnct\" out=\"\">\"</W>\n",
    "<W gloss=\"iron_fist\" lemma=\"jernnæve\" msd=\"NCCSU==I\" tag=\"NN\" in=\"-2:nobj\" out=\"-1:pnct|1:pnct\">jernnæve</W>\n",
    "<W gloss=\"&amp;quot;\" lemma=\"&amp;quot;\" msd=\"XP\" tag=\"&amp;quot;\" in=\"-1:pnct\" out=\"\">\"</W>\n",
    "<W gloss=\".\" lemma=\".\" msd=\"XP\" tag=\".\" in=\"-12:pnct\" out=\"\">.</W>\"\"\"\n",
    "print(ulaz)\n",
    "\n",
    "\n"
   ]
  },
  {
   "cell_type": "code",
   "execution_count": null,
   "metadata": {},
   "outputs": [],
   "source": []
  }
 ],
 "metadata": {
  "kernelspec": {
   "display_name": "Python 3",
   "language": "python",
   "name": "python3"
  },
  "language_info": {
   "codemirror_mode": {
    "name": "ipython",
    "version": 3
   },
   "file_extension": ".py",
   "mimetype": "text/x-python",
   "name": "python",
   "nbconvert_exporter": "python",
   "pygments_lexer": "ipython3",
   "version": "3.7.3"
  }
 },
 "nbformat": 4,
 "nbformat_minor": 2
}
